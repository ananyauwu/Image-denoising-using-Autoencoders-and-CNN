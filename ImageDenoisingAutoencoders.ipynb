{
  "nbformat": 4,
  "nbformat_minor": 0,
  "metadata": {
    "colab": {
      "provenance": []
    },
    "kernelspec": {
      "name": "python3",
      "display_name": "Python 3"
    },
    "language_info": {
      "name": "python"
    }
  },
  "cells": [
    {
      "cell_type": "code",
      "execution_count": null,
      "metadata": {
        "id": "psK04SO2XStF"
      },
      "outputs": [],
      "source": [
        "import numpy\n",
        "import matplotlib.pyplot as plt\n",
        "from keras.models import Sequential\n",
        "from keras.layers import Dense\n",
        "from keras.datasets import mnist"
      ]
    },
    {
      "cell_type": "code",
      "source": [
        "(X_train, y_train), (X_test, y_test) = mnist.load_data()"
      ],
      "metadata": {
        "colab": {
          "base_uri": "https://localhost:8080/"
        },
        "id": "wBn9nJZ2XfyV",
        "outputId": "d50dc6d0-d9aa-41c4-89fc-4033c3ec54b2"
      },
      "execution_count": null,
      "outputs": [
        {
          "output_type": "stream",
          "name": "stdout",
          "text": [
            "Downloading data from https://storage.googleapis.com/tensorflow/tf-keras-datasets/mnist.npz\n",
            "11490434/11490434 [==============================] - 0s 0us/step\n"
          ]
        }
      ]
    },
    {
      "cell_type": "code",
      "source": [
        "X_train.shape"
      ],
      "metadata": {
        "colab": {
          "base_uri": "https://localhost:8080/"
        },
        "id": "ddqvOKd2XqBY",
        "outputId": "cfe23acc-90ba-4c0f-d79c-69411adc5aa4"
      },
      "execution_count": null,
      "outputs": [
        {
          "output_type": "execute_result",
          "data": {
            "text/plain": [
              "(60000, 28, 28)"
            ]
          },
          "metadata": {},
          "execution_count": 3
        }
      ]
    },
    {
      "cell_type": "code",
      "source": [
        "X_test.shape"
      ],
      "metadata": {
        "colab": {
          "base_uri": "https://localhost:8080/"
        },
        "id": "duNZYmJgXv8g",
        "outputId": "c20539bb-ae8f-4e05-f8a0-b0f9bf0409b2"
      },
      "execution_count": null,
      "outputs": [
        {
          "output_type": "execute_result",
          "data": {
            "text/plain": [
              "(10000, 28, 28)"
            ]
          },
          "metadata": {},
          "execution_count": 4
        }
      ]
    },
    {
      "cell_type": "code",
      "source": [
        "plt.subplot(221)\n",
        "plt.imshow(X_train[0], cmap=plt.get_cmap('gray'))\n",
        "plt.subplot(222)\n",
        "plt.imshow(X_train[1], cmap=plt.get_cmap('gray'))\n",
        "plt.subplot(223)\n",
        "plt.imshow(X_train[2], cmap=plt.get_cmap('gray'))\n",
        "plt.subplot(224)\n",
        "plt.imshow(X_train[3], cmap=plt.get_cmap('gray'))\n",
        "plt.show()"
      ],
      "metadata": {
        "colab": {
          "base_uri": "https://localhost:8080/",
          "height": 432
        },
        "id": "Htcx-xc5XzY7",
        "outputId": "a9a5b5ba-247c-4500-e352-d28b000e2cc2"
      },
      "execution_count": null,
      "outputs": [
        {
          "output_type": "display_data",
          "data": {
            "text/plain": [
              "<Figure size 640x480 with 4 Axes>"
            ],
            "image/png": "[encoded data removed]"
          },
          "metadata": {}
        }
      ]
    },
    {
      "cell_type": "code",
      "source": [
        "num_pixels = X_train.shape[1] * X_train.shape[2]\n",
        "X_train = X_train.reshape(X_train.shape[0], num_pixels).astype('float32')\n",
        "X_test = X_test.reshape(X_test.shape[0], num_pixels).astype('float32')\n",
        "X_train = X_train / 255\n",
        "X_test = X_test / 255"
      ],
      "metadata": {
        "id": "wKMe63HbYFFW"
      },
      "execution_count": null,
      "outputs": []
    },
    {
      "cell_type": "code",
      "source": [
        "X_train.shape"
      ],
      "metadata": {
        "colab": {
          "base_uri": "https://localhost:8080/"
        },
        "id": "HtFneGJDYLVW",
        "outputId": "57139f8e-abc8-462c-a788-44b5ad2d015d"
      },
      "execution_count": null,
      "outputs": [
        {
          "output_type": "execute_result",
          "data": {
            "text/plain": [
              "(60000, 784)"
            ]
          },
          "metadata": {},
          "execution_count": 7
        }
      ]
    },
    {
      "cell_type": "code",
      "source": [
        "X_test.shape"
      ],
      "metadata": {
        "colab": {
          "base_uri": "https://localhost:8080/"
        },
        "id": "VpbNDJAYYTWk",
        "outputId": "87b64a94-b801-4174-8e06-f3580a6beca2"
      },
      "execution_count": null,
      "outputs": [
        {
          "output_type": "execute_result",
          "data": {
            "text/plain": [
              "(10000, 784)"
            ]
          },
          "metadata": {},
          "execution_count": 8
        }
      ]
    },
    {
      "cell_type": "code",
      "source": [
        "noise_factor = 0.2\n",
        "x_train_noisy = X_train + noise_factor * numpy.random.normal(loc=0.0, scale=1.0, size=X_train.shape)\n",
        "x_test_noisy = X_test + noise_factor * numpy.random.normal(loc=0.0, scale=1.0, size=X_test.shape)\n",
        "x_train_noisy = numpy.clip(x_train_noisy, 0., 1.)\n",
        "x_test_noisy = numpy.clip(x_test_noisy, 0., 1.)"
      ],
      "metadata": {
        "id": "X29WIx4nYVa2"
      },
      "execution_count": null,
      "outputs": []
    },
    {
      "cell_type": "code",
      "source": [
        "model = Sequential()\n",
        "model.add(Dense(500, input_dim=num_pixels, activation='relu'))\n",
        "model.add(Dense(300, activation='relu'))\n",
        "model.add(Dense(100, activation='relu'))\n",
        "model.add(Dense(300, activation='relu'))\n",
        "model.add(Dense(500, activation='relu'))\n",
        "model.add(Dense(784, activation='sigmoid'))"
      ],
      "metadata": {
        "id": "EITXQDTZYeCJ"
      },
      "execution_count": null,
      "outputs": []
    },
    {
      "cell_type": "code",
      "source": [
        "model.compile(loss='mean_squared_error', optimizer='adam')"
      ],
      "metadata": {
        "id": "O87QoiweYknS"
      },
      "execution_count": null,
      "outputs": []
    },
    {
      "cell_type": "code",
      "source": [
        "model.fit(x_train_noisy, X_train, validation_data=(x_test_noisy, X_test), epochs=10, batch_size=200)"
      ],
      "metadata": {
        "colab": {
          "base_uri": "https://localhost:8080/"
        },
        "id": "lOLw6XzPYpKg",
        "outputId": "7194ccda-8afb-46bd-fd62-4fcacc47bc71"
      },
      "execution_count": null,
      "outputs": [
        {
          "output_type": "stream",
          "name": "stdout",
          "text": [
            "Epoch 1/10\n",
            "300/300 [==============================] - 22s 66ms/step - loss: 0.0415 - val_loss: 0.0197\n",
            "Epoch 2/10\n",
            "300/300 [==============================] - 13s 44ms/step - loss: 0.0164 - val_loss: 0.0135\n",
            "Epoch 3/10\n",
            "300/300 [==============================] - 13s 43ms/step - loss: 0.0127 - val_loss: 0.0114\n",
            "Epoch 4/10\n",
            "300/300 [==============================] - 13s 43ms/step - loss: 0.0109 - val_loss: 0.0102\n",
            "Epoch 5/10\n",
            "300/300 [==============================] - 13s 43ms/step - loss: 0.0098 - val_loss: 0.0096\n",
            "Epoch 6/10\n",
            "300/300 [==============================] - 13s 43ms/step - loss: 0.0090 - val_loss: 0.0087\n",
            "Epoch 7/10\n",
            "300/300 [==============================] - 15s 50ms/step - loss: 0.0084 - val_loss: 0.0081\n",
            "Epoch 8/10\n",
            "300/300 [==============================] - 13s 43ms/step - loss: 0.0080 - val_loss: 0.0079\n",
            "Epoch 9/10\n",
            "300/300 [==============================] - 13s 43ms/step - loss: 0.0075 - val_loss: 0.0074\n",
            "Epoch 10/10\n",
            "300/300 [==============================] - 13s 44ms/step - loss: 0.0073 - val_loss: 0.0073\n"
          ]
        },
        {
          "output_type": "execute_result",
          "data": {
            "text/plain": [
              "<keras.callbacks.History at 0x781e66296020>"
            ]
          },
          "metadata": {},
          "execution_count": 12
        }
      ]
    },
    {
      "cell_type": "code",
      "source": [
        "pred = model.predict(x_test_noisy)\n",
        "pred.shape"
      ],
      "metadata": {
        "colab": {
          "base_uri": "https://localhost:8080/"
        },
        "id": "hesLWs9jYr9o",
        "outputId": "353e1750-517d-4889-eb48-f080df738345"
      },
      "execution_count": null,
      "outputs": [
        {
          "output_type": "stream",
          "name": "stdout",
          "text": [
            "313/313 [==============================] - 3s 8ms/step\n"
          ]
        },
        {
          "output_type": "execute_result",
          "data": {
            "text/plain": [
              "(10000, 784)"
            ]
          },
          "metadata": {},
          "execution_count": 14
        }
      ]
    },
    {
      "cell_type": "code",
      "source": [
        "X_test.shape"
      ],
      "metadata": {
        "colab": {
          "base_uri": "https://localhost:8080/"
        },
        "id": "uQSMHx3LY2zd",
        "outputId": "f1e5807a-5ee0-451b-c955-434bc205647e"
      },
      "execution_count": null,
      "outputs": [
        {
          "output_type": "execute_result",
          "data": {
            "text/plain": [
              "(10000, 784)"
            ]
          },
          "metadata": {},
          "execution_count": 15
        }
      ]
    },
    {
      "cell_type": "code",
      "source": [
        "X_test = numpy.reshape(X_test, (10000,28,28)) *255\n",
        "pred = numpy.reshape(pred, (10000,28,28)) *255\n",
        "x_test_noisy = numpy.reshape(x_test_noisy, (-1,28,28)) *255"
      ],
      "metadata": {
        "id": "fdnZ9UjhY4n1"
      },
      "execution_count": null,
      "outputs": []
    },
    {
      "cell_type": "code",
      "source": [
        "plt.figure(figsize=(20, 4))\n",
        "print(\"Test Images\")\n",
        "for i in range(10,20,1):\n",
        "    plt.subplot(2, 10, i+1)\n",
        "    plt.imshow(X_test[i,:,:], cmap='gray')\n",
        "    curr_lbl = y_test[i]\n",
        "    plt.title(\"(Label: \" + str(curr_lbl) + \")\")\n",
        "plt.show()\n",
        "plt.figure(figsize=(20, 4))\n",
        "print(\"Test Images with Noise\")\n",
        "for i in range(10,20,1):\n",
        "    plt.subplot(2, 10, i+1)\n",
        "    plt.imshow(x_test_noisy[i,:,:], cmap='gray')\n",
        "plt.show()\n",
        "plt.figure(figsize=(20, 4))\n",
        "print(\"Reconstruction of Noisy Test Images\")\n",
        "for i in range(10,20,1):\n",
        "    plt.subplot(2, 10, i+1)\n",
        "    plt.imshow(pred[i,:,:], cmap='gray')\n",
        "plt.show()"
      ],
      "metadata": {
        "colab": {
          "base_uri": "https://localhost:8080/",
          "height": 455
        },
        "id": "kyayIi-aZABY",
        "outputId": "855598c9-577e-444f-cdc4-a4a892e69b98"
      },
      "execution_count": null,
      "outputs": [
        {
          "output_type": "stream",
          "name": "stdout",
          "text": [
            "Test Images\n"
          ]
        },
        {
          "output_type": "display_data",
          "data": {
            "text/plain": [
              "<Figure size 2000x400 with 10 Axes>"
            ],
            "image/png": "[encoded data removed]"
          },
          "metadata": {}
        },
        {
          "output_type": "stream",
          "name": "stdout",
          "text": [
            "Test Images with Noise\n"
          ]
        },
        {
          "output_type": "display_data",
          "data": {
            "text/plain": [
              "<Figure size 2000x400 with 10 Axes>"
            ],
            "image/png": "[encoded data removed]"
          },
          "metadata": {}
        },
        {
          "output_type": "stream",
          "name": "stdout",
          "text": [
            "Reconstruction of Noisy Test Images\n"
          ]
        },
        {
          "output_type": "display_data",
          "data": {
            "text/plain": [
              "<Figure size 2000x400 with 10 Axes>"
            ],
            "image/png": "[encoded data removed]"
          },
          "metadata": {}
        }
      ]
    },
    {
      "cell_type": "code",
      "source": [
        "pred"
      ],
      "metadata": {
        "colab": {
          "base_uri": "https://localhost:8080/"
        },
        "id": "8l1N4hggZFE2",
        "outputId": "139158e7-47ec-47a4-a18b-1f83186a7ea9"
      },
      "execution_count": null,
      "outputs": [
        {
          "output_type": "execute_result",
          "data": {
            "text/plain": [
              "array([[[0.00583737, 0.00731822, 0.00976317, ..., 0.00243678,\n",
              "         0.02636465, 0.01214581],\n",
              "        [0.00061151, 0.00121041, 0.00091642, ..., 0.00988781,\n",
              "         0.00048842, 0.00102609],\n",
              "        [0.00919018, 0.00130114, 0.00077735, ..., 0.03889361,\n",
              "         0.00118651, 0.07283714],\n",
              "        ...,\n",
              "        [0.01552276, 0.00784012, 0.00420383, ..., 0.09904138,\n",
              "         0.00783584, 0.00157148],\n",
              "        [0.00899836, 0.03019703, 0.00272464, ..., 0.01082502,\n",
              "         0.00110384, 0.03263514],\n",
              "        [0.00431419, 0.01290484, 0.00148126, ..., 0.00223621,\n",
              "         0.20132795, 0.01363441]],\n",
              "\n",
              "       [[0.00030121, 0.0040087 , 0.02317924, ..., 0.00241466,\n",
              "         0.01183977, 0.00698344],\n",
              "        [0.00778488, 0.00100871, 0.00270169, ..., 0.00985119,\n",
              "         0.004428  , 0.01515282],\n",
              "        [0.00029504, 0.00309721, 0.0022476 , ..., 0.01058384,\n",
              "         0.00542075, 0.00191939],\n",
              "        ...,\n",
              "        [0.00788084, 0.00314159, 0.02288488, ..., 0.0007133 ,\n",
              "         0.0084159 , 0.01745098],\n",
              "        [0.00196667, 0.0023108 , 0.00206746, ..., 0.00268809,\n",
              "         0.01855243, 0.00387832],\n",
              "        [0.01878868, 0.00095503, 0.00630536, ..., 0.01555993,\n",
              "         0.00317896, 0.00226681]],\n",
              "\n",
              "       [[0.00681413, 0.01738069, 0.00517194, ..., 0.02845506,\n",
              "         0.01027117, 0.01280957],\n",
              "        [0.00432861, 0.00160689, 0.00028569, ..., 0.01205777,\n",
              "         0.00289708, 0.01145256],\n",
              "        [0.00796678, 0.01678543, 0.00142445, ..., 0.01851892,\n",
              "         0.00122094, 0.0019981 ],\n",
              "        ...,\n",
              "        [0.05131944, 0.01055053, 0.01629796, ..., 0.00618243,\n",
              "         0.05248618, 0.00072521],\n",
              "        [0.00129976, 0.01445774, 0.01186389, ..., 0.00197165,\n",
              "         0.01311309, 0.00652431],\n",
              "        [0.01683464, 0.00767337, 0.00112289, ..., 0.05543079,\n",
              "         0.04309516, 0.02020697]],\n",
              "\n",
              "       ...,\n",
              "\n",
              "       [[0.00740707, 0.01376903, 0.00698751, ..., 0.00375039,\n",
              "         0.00351278, 0.01098668],\n",
              "        [0.00546689, 0.0073915 , 0.00205411, ..., 0.037986  ,\n",
              "         0.00294465, 0.02367944],\n",
              "        [0.00561116, 0.00894369, 0.14806734, ..., 0.00294351,\n",
              "         0.01764245, 0.0017811 ],\n",
              "        ...,\n",
              "        [0.02975831, 0.01154875, 0.00162707, ..., 0.00443879,\n",
              "         0.01344682, 0.00372163],\n",
              "        [0.02650564, 0.04046049, 0.00294913, ..., 0.05573509,\n",
              "         0.00302913, 0.03071556],\n",
              "        [0.04209807, 0.01098511, 0.03420951, ..., 0.00118354,\n",
              "         0.002974  , 0.01882885]],\n",
              "\n",
              "       [[0.00101935, 0.0205315 , 0.02332123, ..., 0.0146857 ,\n",
              "         0.01664026, 0.00201561],\n",
              "        [0.02118931, 0.00246718, 0.01442581, ..., 0.00361886,\n",
              "         0.0096767 , 0.00240504],\n",
              "        [0.00368245, 0.00252846, 0.00295319, ..., 0.00321469,\n",
              "         0.00249235, 0.00530385],\n",
              "        ...,\n",
              "        [0.00890779, 0.01133139, 0.01864612, ..., 0.00956688,\n",
              "         0.00664589, 0.01089062],\n",
              "        [0.00706991, 0.00567682, 0.01382212, ..., 0.04087935,\n",
              "         0.00937125, 0.02897425],\n",
              "        [0.00652242, 0.00349858, 0.01091691, ..., 0.01479608,\n",
              "         0.00700965, 0.01469919]],\n",
              "\n",
              "       [[0.00115516, 0.01241619, 0.03901626, ..., 0.00186464,\n",
              "         0.01174119, 0.05913594],\n",
              "        [0.02836777, 0.01685983, 0.09659211, ..., 0.11397604,\n",
              "         0.01833561, 0.00882357],\n",
              "        [0.10073762, 0.02751045, 0.01984379, ..., 0.01192465,\n",
              "         0.0530154 , 0.00562616],\n",
              "        ...,\n",
              "        [0.00952249, 0.01920145, 0.01224069, ..., 0.00084122,\n",
              "         0.0146013 , 0.01137075],\n",
              "        [0.02792325, 0.0195704 , 0.0124643 , ..., 0.02535014,\n",
              "         0.01482905, 0.01204517],\n",
              "        [0.00903686, 0.00460067, 0.02548573, ..., 0.00604485,\n",
              "         0.00776109, 0.00105197]]], dtype=float32)"
            ]
          },
          "metadata": {},
          "execution_count": 18
        }
      ]
    },
    {
      "cell_type": "code",
      "source": [
        "import numpy\n",
        "from PIL import Image"
      ],
      "metadata": {
        "id": "g0QSC2WRb6VK"
      },
      "execution_count": null,
      "outputs": []
    },
    {
      "cell_type": "code",
      "source": [
        "image_data =numpy.array([[[5.03427327e-05, 1.55964622e-03, 2.75412400e-04, ...,\n",
        "         1.84128247e-02, 3.33641074e-03, 1.44657854e-03],\n",
        "        [1.97010604e-03, 1.74030638e-03, 6.87670661e-03, ...,\n",
        "         1.54337473e-03, 1.30364075e-04, 1.41066844e-02],\n",
        "        [3.46164270e-05, 7.43405754e-03, 2.89839460e-03, ...,\n",
        "         1.98801560e-03, 1.34327172e-04, 1.86637277e-04],\n",
        "        ...,\n",
        "        [8.98243161e-04, 2.72858033e-05, 7.56946218e-04, ...,\n",
        "         1.15953066e-04, 1.53956629e-04, 6.28662237e-04],\n",
        "        [1.69710908e-03, 8.19195900e-03, 5.00137801e-04, ...,\n",
        "         1.15178979e-03, 2.99657346e-03, 2.01454153e-04],\n",
        "        [3.49230436e-03, 1.04155391e-04, 1.37581956e-03, ...,\n",
        "         3.48972564e-04, 1.69661187e-04, 1.54404610e-03]],\n",
        "\n",
        "       ...,\n",
        "\n",
        "       [[6.36447745e-04, 9.71557281e-04, 6.13246055e-04, ...,\n",
        "         3.60199250e-03, 2.56142812e-03, 2.29315629e-04],\n",
        "        [1.42952049e-04, 4.54828172e-04, 1.45859143e-04, ...,\n",
        "         9.74628201e-04, 2.62144877e-05, 2.10646511e-04],\n",
        "        [6.61981976e-05, 2.42700037e-02, 2.05197619e-04, ...,\n",
        "         1.04175517e-02, 1.70754603e-04, 3.83771257e-04],\n",
        "        ...,\n",
        "        [5.51312789e-03, 7.78719201e-04, 1.19887404e-02, ...,\n",
        "         7.24295806e-03, 1.54385320e-03, 1.31441385e-03],\n",
        "        [3.80312922e-05, 1.62557550e-02, 1.94729900e-03, ...,\n",
        "         1.33456833e-05, 1.29828346e-04, 3.32978647e-03],\n",
        "        [5.42192953e-03, 4.05340506e-05, 5.92270553e-05, ...,\n",
        "         6.14032615e-04, 2.36826949e-04, 1.69831689e-03]],\n",
        "\n",
        "       [[2.57319082e-02, 1.57245563e-03, 1.12843318e-02, ...,\n",
        "         2.97480654e-02, 1.37540046e-04, 3.29467613e-04],\n",
        "        [1.92510925e-04, 1.99625478e-03, 1.31615112e-03, ...,\n",
        "         5.93528850e-04, 1.15010560e-04, 5.36066073e-04],\n",
        "        [8.47059593e-04, 3.51077542e-02, 1.79299107e-03, ...,\n",
        "         1.41915409e-02, 1.39285316e-04, 4.89129452e-03],\n",
        "        ...,\n",
        "        [1.55306060e-03, 2.82173399e-02, 6.21240411e-04, ...,\n",
        "         2.36297902e-02, 1.03338147e-02, 5.03692718e-04],\n",
        "        [1.07656626e-04, 4.93237413e-02, 7.79663620e-04, ...,\n",
        "         3.10192641e-04, 3.30310245e-03, 2.35702610e-04],\n",
        "        [7.04784319e-02, 4.60487616e-04, 2.63598235e-03, ...,\n",
        "         5.88452785e-05, 4.25258419e-03, 6.00125524e-04]],\n",
        "\n",
        "       [[1.55374513e-03, 1.37517899e-02, 2.94994283e-02, ...,\n",
        "         1.90976039e-02, 2.85226502e-03, 1.28998817e-03],\n",
        "        [1.08902331e-03, 1.70132684e-04, 6.18478730e-02, ...,\n",
        "         2.88509927e-03, 1.36093455e-04, 4.55684756e-04],\n",
        "        [9.22142435e-03, 3.36136948e-03, 4.87705314e-04, ...,\n",
        "         1.17907869e-02, 7.74758591e-05, 3.55324452e-03],\n",
        "        ...,\n",
        "        [3.38282622e-02, 5.82613721e-02, 5.03293658e-03, ...,\n",
        "         1.80829242e-02, 2.22069602e-02, 3.74615239e-03],\n",
        "        [1.36534206e-03, 3.17059681e-02, 1.88850448e-04, ...,\n",
        "         5.45792573e-04, 2.27376334e-02, 2.84317555e-03],\n",
        "        [1.26880929e-02, 3.44710825e-05, 4.62768912e-06, ...,\n",
        "         2.77530984e-03, 4.88074031e-03, 2.15567113e-03]]])"
      ],
      "metadata": {
        "colab": {
          "base_uri": "https://localhost:8080/"
        },
        "id": "Gx1Zf-yCb3dK",
        "outputId": "f615d9e3-859c-41e6-be80-e0f5bacf105b"
      },
      "execution_count": null,
      "outputs": [
        {
          "output_type": "stream",
          "name": "stderr",
          "text": [
            "<ipython-input-20-8f171a8cf825>:1: VisibleDeprecationWarning: Creating an ndarray from ragged nested sequences (which is a list-or-tuple of lists-or-tuples-or ndarrays with different lengths or shapes) is deprecated. If you meant to do this, you must specify 'dtype=object' when creating the ndarray.\n",
            "  image_data =numpy.array([[[5.03427327e-05, 1.55964622e-03, 2.75412400e-04, ...,\n"
          ]
        }
      ]
    },
    {
      "cell_type": "code",
      "source": [
        "for i in range(len(pred)):\n",
        "    rescaled_data = ((pred[i,:,:]) * 225).astype(numpy.uint8)\n",
        "    pil_image = Image.fromarray(rescaled_data, 'L')\n",
        "    image_filename = f'image_{i}.jpeg'\n",
        "    pil_image.save(image_filename, 'JPEG')"
      ],
      "metadata": {
        "id": "yTKKV7OHnsAS"
      },
      "execution_count": null,
      "outputs": []
    }
  ]
}